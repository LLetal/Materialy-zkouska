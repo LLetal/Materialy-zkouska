{
 "cells": [
  {
   "cell_type": "markdown",
   "id": "15a94d3b-3958-432b-b1e3-bfa9d7cb731a",
   "metadata": {},
   "source": [
    "# Tření\n",
    "Smykové tření - působí proti pohybu tělesa. Když se nepohybuje, tak je větší, než když se začne pohybovat. Dokud síla nepřesáhne kritickou hodnotu, tak se nepohybuje.\n",
    "Rozlišujeme koeficient statického tření $\\mu_{s}$ a koeficient kinematického tření $\\mu_{k}$. Když přesáhneme kritickou hodnotu, tak přecházíme do kinematického režimu.\n",
    "Valivé tření - ani na fykosu se jím nezabýváme."
   ]
  },
  {
   "cell_type": "code",
   "execution_count": 52,
   "id": "91dcf9e4-d8c1-47a3-bbaa-ff64977821cf",
   "metadata": {
    "tags": []
   },
   "outputs": [
    {
     "name": "stdout",
     "output_type": "stream",
     "text": [
      "21.445069205095585\n",
      "11.033779189624918\n",
      "11.033779189624918\n",
      "11.033779189624918\n",
      "11.033678022323778\n",
      "11.033222769468658\n",
      "11.032008761855\n",
      "11.029479579326544\n",
      "11.024927050775325\n",
      "11.017491254141667\n",
      "11.00616051641419\n",
      "10.9897714136298\n",
      "10.967008770873706\n",
      "10.9364056622794\n",
      "10.896343411028672\n",
      "10.845051589351606\n",
      "10.780608018526571\n",
      "10.700938768880238\n",
      "10.603818159787567\n",
      "10.486868759671808\n",
      "10.347561386004505\n",
      "10.183215105305498\n",
      "9.990997233142917\n",
      "9.767923334133185\n",
      "9.510857221941018\n",
      "9.216510959279425\n",
      "8.881444857909706\n",
      "8.502067478641454\n",
      "8.074635631332558\n",
      "7.595254374889196\n",
      "7.059877017265839\n",
      "6.464305115465253\n",
      "5.8041884755384965\n",
      "5.075025152584917\n",
      "4.272161450752159\n",
      "3.3907919232361565\n",
      "2.4259593722811394\n",
      "1.3725548491796278\n",
      "0.22531765427243544\n",
      "[1.00000000e+01 0.00000000e+00 0.00000000e+00 0.00000000e+00\n",
      " 1.01167301e-04 5.56420156e-04 1.77042777e-03 4.29961030e-03\n",
      " 8.85213885e-03 1.62879355e-02 2.76186732e-02 4.40077760e-02\n",
      " 6.67704188e-02 9.73735273e-02 1.37435779e-01 1.88727600e-01\n",
      " 2.53171171e-01 3.32840421e-01 4.29961030e-01 5.46910430e-01\n",
      " 6.86217804e-01 8.50564084e-01 1.04278196e+00 1.26585586e+00\n",
      " 1.52292197e+00 1.81726823e+00 2.15233433e+00 2.53171171e+00\n",
      " 2.95914356e+00 3.43852481e+00 3.97390217e+00 4.56947407e+00\n",
      " 5.22959071e+00 5.95875404e+00 6.76161774e+00 7.64298727e+00\n",
      " 8.60781982e+00 9.66122434e+00 0.00000000e+00 0.00000000e+00\n",
      " 0.00000000e+00 0.00000000e+00 0.00000000e+00 0.00000000e+00\n",
      " 0.00000000e+00]\n"
     ]
    }
   ],
   "source": [
    "# Simulace\n",
    "import numpy as np\n",
    "import matplotlib.pyplot as plt\n",
    "from matplotlib.patches import Polygon\n",
    "def treni(F_N,mu):\n",
    "    return(F_N*mu)\n",
    "\n",
    "# Třeba komplet přepsat, mám tam chybu\n",
    "\n",
    "def hlavni_cast(h0,x0,g,v0,alpha,tmax,f = 1.1,t_sample=1000):\n",
    "    \n",
    "    t_list = np.linspace(0,tmax,t_sample)\n",
    "    v_list = np.zeros((t_sample,2))\n",
    "    poloha = np.zeros((t_sample,2))\n",
    "    unit_vector = np.array([1,0])\n",
    "    unit_vector2 = np.array([0,1])\n",
    "    poloha[0] = np.array([0,h0]) \n",
    "    v_list[0] = np.array([v0,0])\n",
    "    \n",
    "    alpha= np.radians(alpha)\n",
    "    \n",
    "    naklonena_draha = h0/np.sin(alpha)\n",
    "    \n",
    "    vodorovna_delka = h0/np.tan(alpha)\n",
    "    \n",
    "    print(vodorovna_delka)\n",
    "    for index in range(t_sample-1):\n",
    "        \n",
    "        if poloha[index][0] <= naklonena_draha:\n",
    "        \n",
    "            poloha[index+1] = v_list[index]*t_list[index] + poloha[index]\n",
    "            print(np.tan(alpha)*(naklonena_draha-poloha[index][0]))\n",
    "            poloha[index+1][1] = h0 - (vodorovna_delka-poloha[index][0])*np.tan(alpha) # tady to počítám docela podvodem, chyběl mi papír, a nedokázal jsem si představit úhly mezi jednotlivýma vektorama, pročež to dělám \"podvodem\"\n",
    "            v_list[index+1] = v_list[index] + np.cos(alpha)*g*unit_vector*t_list[index] -np.sin(alpha)*f*g*unit_vector*t_list[index]\n",
    "        \n",
    "        if poloha[index][0] > naklonena_draha:\n",
    "            poloha[index][1] = 0\n",
    "            poloha[index+1] = v_list[index]*t_list[index] +poloha[index]\n",
    "            \n",
    "            v_list[index+1] = v_list[index]  - g*unit_vector*f*t_list[index]            \n",
    "        \n",
    "        if v_list[index][0] <0 :\n",
    "            return(v_list[0:index],t_list[0:index],poloha[0:index])\n",
    "        \n",
    "    return(v_list,t_list,poloha)\n",
    "\n",
    "rychlosti,casy,polohy = hlavni_cast(10,0,9.81,0,25,5)\n",
    "# print(rychlosti[:,0])\n",
    "print(polohy[:,1])"
   ]
  },
  {
   "cell_type": "code",
   "execution_count": 29,
   "id": "1232533b-1dd9-4b32-81e2-09b9435c5da4",
   "metadata": {
    "tags": []
   },
   "outputs": [
    {
     "data": {
      "text/plain": [
       "[<matplotlib.lines.Line2D at 0x1a351149290>,\n",
       " <matplotlib.lines.Line2D at 0x1a351149510>]"
      ]
     },
     "execution_count": 29,
     "metadata": {},
     "output_type": "execute_result"
    },
    {
     "data": {
      "image/png": "[encoded data removed]",
      "text/plain": [
       "<Figure size 640x480 with 1 Axes>"
      ]
     },
     "metadata": {},
     "output_type": "display_data"
    }
   ],
   "source": [
    "plt.plot(casy,rychlosti[])"
   ]
  },
  {
   "cell_type": "code",
   "execution_count": null,
   "id": "6cfbaee5-d832-4fd3-8db6-1d17a9f00d12",
   "metadata": {},
   "outputs": [],
   "source": []
  }
 ],
 "metadata": {
  "kernelspec": {
   "display_name": "Python 3 (ipykernel)",
   "language": "python",
   "name": "python3"
  },
  "language_info": {
   "codemirror_mode": {
    "name": "ipython",
    "version": 3
   },
   "file_extension": ".py",
   "mimetype": "text/x-python",
   "name": "python",
   "nbconvert_exporter": "python",
   "pygments_lexer": "ipython3",
   "version": "3.11.4"
  }
 },
 "nbformat": 4,
 "nbformat_minor": 5
}
