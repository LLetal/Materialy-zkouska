{
 "cells": [
  {
   "cell_type": "markdown",
   "id": "6f6a79c8-b6c8-4fac-bcd3-c8a39fc45966",
   "metadata": {},
   "source": [
    "# Rozdělení molekul na všechny způsoby"
   ]
  },
  {
   "cell_type": "markdown",
   "id": "dd945285-5624-437e-b166-20e5caa4d171",
   "metadata": {},
   "source": [
    "# Izotermická atmosféra\n",
    "Izotermická atmosféra představuje takovou atmosféru, pro níž platí, že se s výškou nemění její teplota. Právě na tomto nejjednodušším příkladě se pokusíme nalézt funkci rozdělení molekul v takovéto \"speciální\" soustavě. Platí-li, že je N počet molekul uvnitř nějakého objemu V a tlaku p uvnitř atmosféry stálý, musí platit stavová rovnice ideálního plynu. Tedy:\n",
    "$$\n",
    "pV = nkT, kde n = \\frac{N}{V}\n",
    "$$\n",
    "Ve vztahu platí, že teplota je konstantní, čili $pV = n$ je ůměrné o nějakou konstantu $Tk$. Co však konstantní není je tlak, který by podle intuice stoupat s tím, jak se přibližujeme zemi, nad níž atmosféra \"visí\". Uvážíme-li jednotkovou plochu ve výšce h, pak síla, která působí na tuto vrstvu zespoda vytváří tlak rovný $p$. Protože uvažujeme gravitační pole (zas tak moc jsme si to nezjednodušili), musí síla ve výšce $dh$ převýšit tlak působící směrem dolů o tíhu v bodě mezi $h$ a $h+dh$. Z toho, co jsme si řekli výše víme, kolik částic se nachází uvnitř této malinké vrstvy a uvažme($n dh$), že víme i hmotnost jednotlivých částic. Pak tlak působící na tuto vrstvičku představuje:\n",
    "$$\n",
    "dp = - mgn dh\n",
    "$$\n",
    "Ze stavové rovnice ideálního plynu si poté vyjádříme tlak jako $p = \\frac{nkT}{V(dh 1)}$. Odsud získáváme diferenciální rovnici tvaru:\n",
    "$$\n",
    "\\frac{dn}{dh} = \\frac{mg}{kT}n\n",
    "$$\n",
    "Jedná se o jednoduchou diferenciální rovnici, jejíž řešení je:\n",
    "$$\n",
    "n = n_0 e^{\\frac{-mgh}{kT}}\n",
    "$$\n",
    "Kde $n_0$ představuje počet částic na objem u povrchu(h=0). Všimněme si, že se jedná o klesající exponenciálu, která klesá tím rychleji, čím větší je větší hmotnost molekul, z nichž je atmosféra složená. Právě proto se ve vyšších vrstvách atmosféry nacházejí spíše lehké plyny."
   ]
  },
  {
   "cell_type": "markdown",
   "id": "439c0370-bb90-437a-8387-d4aceb1a1ba1",
   "metadata": {},
   "source": [
    "#  Boltzmannův zákon\n",
    "Můžeme si všimnout, že v čitateli exponentu funkce v předchozí části se nachází předpis potenciální energie v tíhovém poli země. Boltzmannův zákon nám říká, že toto rozdělení výskytu platí uvnitř všech konzervativních polí (např. elektrické). Platí tedy:\n",
    "$$\n",
    "\\rho = e^{\\frac{-E_p}{kT}}\n",
    "$$"
   ]
  },
  {
   "cell_type": "markdown",
   "id": "2018810f-b482-4e09-a38b-be43f1b6f1a4",
   "metadata": {},
   "source": [
    "# Poissonova konstanta plynů"
   ]
  },
  {
   "cell_type": "code",
   "execution_count": null,
   "id": "dc686a4f-0169-4bb9-9ea9-e5b87ba837ce",
   "metadata": {},
   "outputs": [],
   "source": [
    "= Poměr  tepelných kapacit plynu při stálém tlaku a stálém objemu (c"
   ]
  }
 ],
 "metadata": {
  "kernelspec": {
   "display_name": "Python 3 (ipykernel)",
   "language": "python",
   "name": "python3"
  },
  "language_info": {
   "codemirror_mode": {
    "name": "ipython",
    "version": 3
   },
   "file_extension": ".py",
   "mimetype": "text/x-python",
   "name": "python",
   "nbconvert_exporter": "python",
   "pygments_lexer": "ipython3",
   "version": "3.11.5"
  }
 },
 "nbformat": 4,
 "nbformat_minor": 5
}
